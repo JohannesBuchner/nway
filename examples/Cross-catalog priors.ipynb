{
 "cells": [
  {
   "cell_type": "markdown",
   "metadata": {},
   "source": [
    "## NWAY with cross-catalog priors\n",
    "\n",
    "\n",
    "This demonstrates a prior on properties across catalogs. In this example, we make sure the chosen association has consistent magnitudes (+-0.3mag) in similar bands, and not completely different magnitudes."
   ]
  },
  {
   "cell_type": "markdown",
   "metadata": {},
   "source": [
    "This example is very artificial. It assumes positional errors of 100 arcsec. If you have a better example, let me (Johannes) know."
   ]
  },
  {
   "cell_type": "code",
   "execution_count": 43,
   "metadata": {},
   "outputs": [],
   "source": [
    "import numpy\n",
    "import numpy as np\n",
    "from numpy import log10, pi, exp, logical_and\n",
    "import astropy.io.fits as pyfits\n",
    "import nwaylib\n",
    "import matplotlib.pyplot as plt\n",
    "\n",
    "# load catalogs\n",
    "\n",
    "t1 = pyfits.open('standard-stars.fits')[1]\n",
    "t2 = pyfits.open('gaia.fits')[1]\n",
    "\n",
    "# prepare for NWAY API\n",
    "c1 = dict(name='STD', area=pi * 15**2, \n",
    "          ra=t1.data['RA'], dec=t1.data['DEC'], error=t1.data['RA'] * 0 + 100, \n",
    "          mags=[], maghists=[], magnames=[])\n",
    "c2 = dict(name='GAIA', area=15**2, \n",
    "          ra=t2.data['RA'], dec=t2.data['DEC'], error=t2.data['RA'] * 0 + 100, \n",
    "          mags=[], maghists=[], magnames=[])\n"
   ]
  },
  {
   "cell_type": "markdown",
   "metadata": {},
   "source": [
    "First, we just look at the naive match using only positions."
   ]
  },
  {
   "cell_type": "code",
   "execution_count": 44,
   "metadata": {},
   "outputs": [
    {
     "name": "stderr",
     "output_type": "stream",
     "text": [
      "    adding angular separation columns\n",
      "matching:    311 matches after filtering by search radius\n",
      "Primary catalogue \"STD\" (39), density gives 2.28e+03 objects on entire sky\n",
      "Catalogue \"GAIA\" (15305), density gives 2.81e+06 objects on entire sky\n",
      "Computing distance-based probabilities ...\n",
      "    correcting for unrelated associations ...\n",
      "100%|██████████| 39/39 [00:00<00:00, 3547.17it/s]\n",
      "\n",
      "Computing final probabilities ...\n",
      "    grouping by primary catalogue ID and flagging ...\n"
     ]
    }
   ],
   "source": [
    "result_pos = nwaylib.nway_match([c1, c2], match_radius=1000, prior_completeness = 0.9)"
   ]
  },
  {
   "cell_type": "code",
   "execution_count": 3,
   "metadata": {},
   "outputs": [
    {
     "data": {
      "text/html": [
       "<div>\n",
       "<style scoped>\n",
       "    .dataframe tbody tr th:only-of-type {\n",
       "        vertical-align: middle;\n",
       "    }\n",
       "\n",
       "    .dataframe tbody tr th {\n",
       "        vertical-align: top;\n",
       "    }\n",
       "\n",
       "    .dataframe thead th {\n",
       "        text-align: right;\n",
       "    }\n",
       "</style>\n",
       "<table border=\"1\" class=\"dataframe\">\n",
       "  <thead>\n",
       "    <tr style=\"text-align: right;\">\n",
       "      <th></th>\n",
       "      <th>STD</th>\n",
       "      <th>GAIA</th>\n",
       "      <th>Separation_STD_GAIA</th>\n",
       "      <th>Separation_max</th>\n",
       "      <th>ncat</th>\n",
       "      <th>dist_bayesfactor_uncorrected</th>\n",
       "      <th>dist_bayesfactor</th>\n",
       "      <th>dist_post</th>\n",
       "      <th>p_single</th>\n",
       "      <th>match_flag</th>\n",
       "      <th>prob_has_match</th>\n",
       "      <th>prob_this_match</th>\n",
       "    </tr>\n",
       "  </thead>\n",
       "  <tbody>\n",
       "    <tr>\n",
       "      <th>0</th>\n",
       "      <td>0</td>\n",
       "      <td>-1</td>\n",
       "      <td>NaN</td>\n",
       "      <td>0.000000</td>\n",
       "      <td>1</td>\n",
       "      <td>0.000000</td>\n",
       "      <td>0.000000</td>\n",
       "      <td>1.000000e+00</td>\n",
       "      <td>1.000000e+00</td>\n",
       "      <td>0</td>\n",
       "      <td>0.57848</td>\n",
       "      <td>0.000000e+00</td>\n",
       "    </tr>\n",
       "    <tr>\n",
       "      <th>1</th>\n",
       "      <td>0</td>\n",
       "      <td>530</td>\n",
       "      <td>0.922967</td>\n",
       "      <td>0.922967</td>\n",
       "      <td>2</td>\n",
       "      <td>6.628841</td>\n",
       "      <td>6.628841</td>\n",
       "      <td>5.770640e-01</td>\n",
       "      <td>5.770640e-01</td>\n",
       "      <td>1</td>\n",
       "      <td>0.57848</td>\n",
       "      <td>9.942118e-01</td>\n",
       "    </tr>\n",
       "    <tr>\n",
       "      <th>2</th>\n",
       "      <td>0</td>\n",
       "      <td>3526</td>\n",
       "      <td>523.724525</td>\n",
       "      <td>523.724525</td>\n",
       "      <td>2</td>\n",
       "      <td>3.650813</td>\n",
       "      <td>3.650813</td>\n",
       "      <td>1.433172e-03</td>\n",
       "      <td>1.433172e-03</td>\n",
       "      <td>0</td>\n",
       "      <td>0.57848</td>\n",
       "      <td>1.045805e-03</td>\n",
       "    </tr>\n",
       "    <tr>\n",
       "      <th>3</th>\n",
       "      <td>0</td>\n",
       "      <td>12678</td>\n",
       "      <td>622.818627</td>\n",
       "      <td>622.818627</td>\n",
       "      <td>2</td>\n",
       "      <td>2.417246</td>\n",
       "      <td>2.417246</td>\n",
       "      <td>8.381436e-05</td>\n",
       "      <td>8.381436e-05</td>\n",
       "      <td>0</td>\n",
       "      <td>0.57848</td>\n",
       "      <td>6.107794e-05</td>\n",
       "    </tr>\n",
       "    <tr>\n",
       "      <th>4</th>\n",
       "      <td>0</td>\n",
       "      <td>13917</td>\n",
       "      <td>462.963721</td>\n",
       "      <td>462.963721</td>\n",
       "      <td>2</td>\n",
       "      <td>4.301733</td>\n",
       "      <td>4.301733</td>\n",
       "      <td>6.383521e-03</td>\n",
       "      <td>6.383521e-03</td>\n",
       "      <td>0</td>\n",
       "      <td>0.57848</td>\n",
       "      <td>4.681349e-03</td>\n",
       "    </tr>\n",
       "    <tr>\n",
       "      <th>...</th>\n",
       "      <td>...</td>\n",
       "      <td>...</td>\n",
       "      <td>...</td>\n",
       "      <td>...</td>\n",
       "      <td>...</td>\n",
       "      <td>...</td>\n",
       "      <td>...</td>\n",
       "      <td>...</td>\n",
       "      <td>...</td>\n",
       "      <td>...</td>\n",
       "      <td>...</td>\n",
       "      <td>...</td>\n",
       "    </tr>\n",
       "    <tr>\n",
       "      <th>306</th>\n",
       "      <td>38</td>\n",
       "      <td>167</td>\n",
       "      <td>1.700956</td>\n",
       "      <td>1.700956</td>\n",
       "      <td>2</td>\n",
       "      <td>6.628819</td>\n",
       "      <td>6.628819</td>\n",
       "      <td>5.770516e-01</td>\n",
       "      <td>5.770516e-01</td>\n",
       "      <td>1</td>\n",
       "      <td>0.70056</td>\n",
       "      <td>5.831656e-01</td>\n",
       "    </tr>\n",
       "    <tr>\n",
       "      <th>307</th>\n",
       "      <td>38</td>\n",
       "      <td>2107</td>\n",
       "      <td>785.453741</td>\n",
       "      <td>785.453741</td>\n",
       "      <td>2</td>\n",
       "      <td>-0.069464</td>\n",
       "      <td>-0.069464</td>\n",
       "      <td>2.733026e-07</td>\n",
       "      <td>2.733026e-07</td>\n",
       "      <td>0</td>\n",
       "      <td>0.70056</td>\n",
       "      <td>1.168177e-07</td>\n",
       "    </tr>\n",
       "    <tr>\n",
       "      <th>308</th>\n",
       "      <td>38</td>\n",
       "      <td>8918</td>\n",
       "      <td>690.145449</td>\n",
       "      <td>690.145449</td>\n",
       "      <td>2</td>\n",
       "      <td>1.457481</td>\n",
       "      <td>1.457481</td>\n",
       "      <td>9.195705e-06</td>\n",
       "      <td>9.195705e-06</td>\n",
       "      <td>0</td>\n",
       "      <td>0.70056</td>\n",
       "      <td>3.930554e-06</td>\n",
       "    </tr>\n",
       "    <tr>\n",
       "      <th>309</th>\n",
       "      <td>38</td>\n",
       "      <td>9524</td>\n",
       "      <td>827.906988</td>\n",
       "      <td>827.906988</td>\n",
       "      <td>2</td>\n",
       "      <td>-0.813111</td>\n",
       "      <td>-0.813111</td>\n",
       "      <td>4.931705e-08</td>\n",
       "      <td>4.931705e-08</td>\n",
       "      <td>0</td>\n",
       "      <td>0.70056</td>\n",
       "      <td>2.107958e-08</td>\n",
       "    </tr>\n",
       "    <tr>\n",
       "      <th>310</th>\n",
       "      <td>38</td>\n",
       "      <td>12191</td>\n",
       "      <td>115.907616</td>\n",
       "      <td>115.907616</td>\n",
       "      <td>2</td>\n",
       "      <td>6.482986</td>\n",
       "      <td>6.482986</td>\n",
       "      <td>4.937226e-01</td>\n",
       "      <td>4.937226e-01</td>\n",
       "      <td>2</td>\n",
       "      <td>0.70056</td>\n",
       "      <td>4.168303e-01</td>\n",
       "    </tr>\n",
       "  </tbody>\n",
       "</table>\n",
       "<p>311 rows × 12 columns</p>\n",
       "</div>"
      ],
      "text/plain": [
       "     STD   GAIA  Separation_STD_GAIA  Separation_max  ncat  \\\n",
       "0      0     -1                  NaN        0.000000     1   \n",
       "1      0    530             0.922967        0.922967     2   \n",
       "2      0   3526           523.724525      523.724525     2   \n",
       "3      0  12678           622.818627      622.818627     2   \n",
       "4      0  13917           462.963721      462.963721     2   \n",
       "..   ...    ...                  ...             ...   ...   \n",
       "306   38    167             1.700956        1.700956     2   \n",
       "307   38   2107           785.453741      785.453741     2   \n",
       "308   38   8918           690.145449      690.145449     2   \n",
       "309   38   9524           827.906988      827.906988     2   \n",
       "310   38  12191           115.907616      115.907616     2   \n",
       "\n",
       "     dist_bayesfactor_uncorrected  dist_bayesfactor     dist_post  \\\n",
       "0                        0.000000          0.000000  1.000000e+00   \n",
       "1                        6.628841          6.628841  5.770640e-01   \n",
       "2                        3.650813          3.650813  1.433172e-03   \n",
       "3                        2.417246          2.417246  8.381436e-05   \n",
       "4                        4.301733          4.301733  6.383521e-03   \n",
       "..                            ...               ...           ...   \n",
       "306                      6.628819          6.628819  5.770516e-01   \n",
       "307                     -0.069464         -0.069464  2.733026e-07   \n",
       "308                      1.457481          1.457481  9.195705e-06   \n",
       "309                     -0.813111         -0.813111  4.931705e-08   \n",
       "310                      6.482986          6.482986  4.937226e-01   \n",
       "\n",
       "         p_single  match_flag  prob_has_match  prob_this_match  \n",
       "0    1.000000e+00           0         0.57848     0.000000e+00  \n",
       "1    5.770640e-01           1         0.57848     9.942118e-01  \n",
       "2    1.433172e-03           0         0.57848     1.045805e-03  \n",
       "3    8.381436e-05           0         0.57848     6.107794e-05  \n",
       "4    6.383521e-03           0         0.57848     4.681349e-03  \n",
       "..            ...         ...             ...              ...  \n",
       "306  5.770516e-01           1         0.70056     5.831656e-01  \n",
       "307  2.733026e-07           0         0.70056     1.168177e-07  \n",
       "308  9.195705e-06           0         0.70056     3.930554e-06  \n",
       "309  4.931705e-08           0         0.70056     2.107958e-08  \n",
       "310  4.937226e-01           2         0.70056     4.168303e-01  \n",
       "\n",
       "[311 rows x 12 columns]"
      ]
     },
     "execution_count": 3,
     "metadata": {},
     "output_type": "execute_result"
    }
   ],
   "source": [
    "result_pos"
   ]
  },
  {
   "cell_type": "markdown",
   "metadata": {},
   "source": [
    "While many sources found a counterpart ($p_{any}$>0.5), there are many options ($p_i$<0.5) for many sources:"
   ]
  },
  {
   "cell_type": "code",
   "execution_count": 42,
   "metadata": {
    "scrolled": true
   },
   "outputs": [
    {
     "data": {
      "image/png": "[encoded data removed]",
      "text/plain": [
       "<Figure size 432x288 with 1 Axes>"
      ]
     },
     "metadata": {
      "needs_background": "light"
     },
     "output_type": "display_data"
    }
   ],
   "source": [
    "plt.scatter(result_pos.prob_has_match, result_pos.prob_this_match)\n",
    "plt.ylabel('p_i')\n",
    "plt.xlabel('p_any');"
   ]
  },
  {
   "cell_type": "markdown",
   "metadata": {},
   "source": [
    "Lets look at the magnitudes from the two input catalogs, and see whether they are correlated!"
   ]
  },
  {
   "cell_type": "code",
   "execution_count": 47,
   "metadata": {},
   "outputs": [],
   "source": [
    "mag_O = t1.data['HPmag'][result_pos.STD[result_pos.ncat>1]]\n",
    "mag_G = t2.data['phot_g_mean_mag'][result_pos.GAIA[result_pos.ncat>1]]"
   ]
  },
  {
   "cell_type": "code",
   "execution_count": 48,
   "metadata": {},
   "outputs": [
    {
     "data": {
      "text/plain": [
       "array([6.88, 6.88, 6.88, 6.88, 6.02, 6.02, 6.02, 6.02, 6.02, 6.02, 6.02,\n",
       "       6.02, 6.02, 6.02, 6.02, 6.44, 6.44, 6.44, 6.44, 6.44, 6.44, 6.44,\n",
       "       6.44, 6.44, 6.44, 6.44, 6.44, 5.11, 5.11, 5.11, 5.11, 5.11, 5.11,\n",
       "       5.11, 5.11, 3.72, 3.72, 3.72, 3.72, 3.72, 3.72, 3.72, 3.72, 3.72,\n",
       "       3.72, 3.72, 3.72, 3.72, 3.72, 3.72, 3.72, 3.72, 5.26, 5.26, 5.26,\n",
       "       5.26, 5.26, 5.26, 5.26, 5.26, 3.76, 3.76, 3.76, 3.76, 6.13, 6.13,\n",
       "       6.13, 6.43, 6.43, 6.43, 6.43, 6.43, 6.43, 2.27, 2.27, 2.27, 2.27,\n",
       "       2.27, 6.  , 6.  , 6.  , 6.  , 6.  , 6.  , 5.02, 5.02, 5.02, 5.02,\n",
       "       5.02, 5.02, 5.02, 5.02, 6.36, 6.36, 6.36, 6.36, 6.36, 2.22, 2.22,\n",
       "       2.22, 2.22, 2.22, 2.22, 2.22, 2.22, 2.22, 2.22, 2.22, 6.31, 6.31,\n",
       "       6.31, 6.31, 6.31, 6.31, 6.31, 6.31, 6.31, 6.31, 6.31, 6.31, 6.31,\n",
       "       6.31, 6.31, 6.31, 6.31, 6.31, 6.31, 6.31, 4.43, 4.43, 4.43, 4.43,\n",
       "       4.43, 4.43, 6.6 , 6.6 , 6.6 , 6.6 , 6.6 , 6.6 , 6.6 , 6.6 , 6.6 ,\n",
       "       6.8 , 6.8 , 6.8 , 6.8 , 4.94, 4.94, 4.94, 4.94, 4.94, 4.94, 6.18,\n",
       "       6.18, 6.18, 6.18, 5.3 , 5.3 , 5.3 , 5.3 , 5.3 , 5.3 , 5.3 , 6.65,\n",
       "       6.65, 6.65, 6.65, 6.65, 6.65, 6.65, 6.65, 6.65, 6.11, 6.11, 6.11,\n",
       "       6.11, 6.11, 4.13, 4.13, 4.13, 4.13, 4.04, 4.04, 4.04, 4.04, 4.04,\n",
       "       4.04, 4.04, 4.04, 4.04, 4.06, 4.06, 4.06, 4.06, 4.06, 4.06, 6.14,\n",
       "       6.14, 6.14, 6.14, 6.14, 5.76, 5.76, 5.76, 5.76, 6.38, 6.38, 6.38,\n",
       "       6.38, 6.38, 6.38, 6.38, 6.48, 6.48, 6.48, 6.48, 6.48, 6.3 , 6.3 ,\n",
       "       6.3 , 6.3 , 6.3 , 5.02, 5.02, 5.02, 5.02, 5.02, 5.02, 5.02, 6.56,\n",
       "       6.56, 6.56, 6.56, 6.56, 6.56, 6.11, 6.11, 6.11, 6.11, 6.11, 6.11,\n",
       "       6.83, 6.83, 6.83, 6.83, 4.42, 4.42, 4.42, 4.42, 4.42, 4.42, 3.69,\n",
       "       3.69, 3.69, 3.69, 2.22, 2.22, 2.22, 2.22, 2.22, 2.22, 2.22, 2.22,\n",
       "       2.22, 2.22, 2.22, 5.94, 5.94, 5.94, 5.94, 5.94], dtype=float32)"
      ]
     },
     "execution_count": 48,
     "metadata": {},
     "output_type": "execute_result"
    }
   ],
   "source": [
    "mag_O"
   ]
  },
  {
   "cell_type": "code",
   "execution_count": 50,
   "metadata": {},
   "outputs": [
    {
     "data": {
      "image/png": "[encoded data removed]",
      "text/plain": [
       "<Figure size 432x288 with 1 Axes>"
      ]
     },
     "metadata": {
      "needs_background": "light"
     },
     "output_type": "display_data"
    }
   ],
   "source": [
    "plt.scatter(mag_G, mag_O, c=result_pos.prob_this_match[result_pos.ncat>1])\n",
    "plt.ylabel('First catalog magnitude')\n",
    "plt.xlabel('Gaia magnitude')\n",
    "plt.plot([2, 7], [2, 7]);"
   ]
  },
  {
   "cell_type": "markdown",
   "metadata": {},
   "source": [
    "Indeed, they are correlated! ^\n",
    "\n",
    "Lets look at the difference distribution:"
   ]
  },
  {
   "cell_type": "code",
   "execution_count": 51,
   "metadata": {
    "scrolled": true
   },
   "outputs": [
    {
     "name": "stdout",
     "output_type": "stream",
     "text": [
      "0.3378309\n"
     ]
    },
    {
     "data": {
      "image/png": "[encoded data removed]",
      "text/plain": [
       "<Figure size 432x288 with 1 Axes>"
      ]
     },
     "metadata": {
      "needs_background": "light"
     },
     "output_type": "display_data"
    }
   ],
   "source": [
    "plt.hist(mag_G - mag_O, bins=40);\n",
    "print((mag_G - mag_O)[np.abs(mag_G - mag_O) < 1].std())"
   ]
  },
  {
   "cell_type": "markdown",
   "metadata": {},
   "source": [
    "There is a large tail of wrong association, but there is a peak near zero +- 0.3.\n",
    "\n",
    "To discard the tail, lets build a prior that prefers magnitude differences following a gaussian with standard deviation of 0.3:"
   ]
  },
  {
   "cell_type": "code",
   "execution_count": 11,
   "metadata": {},
   "outputs": [],
   "source": [
    "# allowed deviation\n",
    "sigma = 0.3"
   ]
  },
  {
   "cell_type": "markdown",
   "metadata": {},
   "source": [
    "This is our function which postprocesses a NWAY match, by weighing each combination:\n",
    "\n",
    "Have a look at the comments!"
   ]
  },
  {
   "cell_type": "code",
   "execution_count": 56,
   "metadata": {},
   "outputs": [],
   "source": [
    "def apply_magdiff_biasing(match_tables, table, mag_include_radius, mag_exclude_radius, magauto_post_single_minvalue, store_mag_hists, logger):\n",
    "    # get the O magnitudes\n",
    "    mag_O = t1.data['HPmag'][table.STD]\n",
    "    table['HPmag'] = mag_O\n",
    "    has_match = table.ncat == 2\n",
    "    # get the Gaia magnitudes\n",
    "    mag_G = t2.data['phot_g_mean_mag'][table.GAIA]\n",
    "    mag_G[~has_match] = np.nan\n",
    "    table['phot_g_mean_mag'] = mag_G\n",
    "    # compute difference\n",
    "    magdiff = mag_O - mag_G\n",
    "    # compute probability of being a target using a gaussian:\n",
    "    prob_correlated = np.exp(-0.5 * (magdiff / sigma)**2) / (2 * pi * sigma**2)\n",
    "    # compute probability of unrelated using two flat distributions in magnitude [0..10]\n",
    "    prob_unrelated = 1. / (10 * 10)\n",
    "    # new Bayes factor:\n",
    "    newbf = np.log(prob_correlated + 1e-10) - np.log(prob_unrelated)\n",
    "    # store information into the output\n",
    "    table['bias_magdiff'] = np.where(np.isfinite(newbf), np.exp(newbf), 0)\n",
    "    \n",
    "    # update values and return them\n",
    "    total = table['dist_bayesfactor'].values + table['bias_magdiff'].values\n",
    "    return table, total\n"
   ]
  },
  {
   "cell_type": "markdown",
   "metadata": {},
   "source": [
    "## Final NWAY run\n",
    "\n",
    "Now we run NWAY **with** this fancy biasing function.\n",
    "\n",
    "NWAY will do the same, but finally recompute the $p_{any}$ and $p_i$ values incorporating our Bayes factor.\n"
   ]
  },
  {
   "cell_type": "code",
   "execution_count": 58,
   "metadata": {},
   "outputs": [
    {
     "name": "stderr",
     "output_type": "stream",
     "text": [
      "    adding angular separation columns\n",
      "matching:     81 matches after filtering by search radius\n",
      "Primary catalogue \"STD\" (39), density gives 2.28e+03 objects on entire sky\n",
      "Catalogue \"GAIA\" (15305), density gives 2.81e+06 objects on entire sky\n",
      "Computing distance-based probabilities ...\n",
      "    correcting for unrelated associations ...\n",
      "100%|██████████| 39/39 [00:00<00:00, 3687.26it/s]\n",
      "\n",
      "Computing final probabilities ...\n",
      "    grouping by primary catalogue ID and flagging ...\n"
     ]
    }
   ],
   "source": [
    "result = nwaylib.nway_match(\n",
    "    [c1, c2], \n",
    "    match_radius=100, \n",
    "    prior_completeness = 0.9, \n",
    "    biasing_function=apply_magdiff_biasing  # <-- This line is new!\n",
    ")"
   ]
  },
  {
   "cell_type": "code",
   "execution_count": 59,
   "metadata": {},
   "outputs": [
    {
     "data": {
      "text/html": [
       "<div>\n",
       "<style scoped>\n",
       "    .dataframe tbody tr th:only-of-type {\n",
       "        vertical-align: middle;\n",
       "    }\n",
       "\n",
       "    .dataframe tbody tr th {\n",
       "        vertical-align: top;\n",
       "    }\n",
       "\n",
       "    .dataframe thead th {\n",
       "        text-align: right;\n",
       "    }\n",
       "</style>\n",
       "<table border=\"1\" class=\"dataframe\">\n",
       "  <thead>\n",
       "    <tr style=\"text-align: right;\">\n",
       "      <th></th>\n",
       "      <th>STD</th>\n",
       "      <th>GAIA</th>\n",
       "      <th>Separation_STD_GAIA</th>\n",
       "      <th>Separation_max</th>\n",
       "      <th>ncat</th>\n",
       "      <th>dist_bayesfactor_uncorrected</th>\n",
       "      <th>dist_bayesfactor</th>\n",
       "      <th>dist_post</th>\n",
       "      <th>HPmag</th>\n",
       "      <th>phot_g_mean_mag</th>\n",
       "      <th>bias_magdiff</th>\n",
       "      <th>p_single</th>\n",
       "      <th>match_flag</th>\n",
       "      <th>prob_has_match</th>\n",
       "      <th>prob_this_match</th>\n",
       "    </tr>\n",
       "  </thead>\n",
       "  <tbody>\n",
       "    <tr>\n",
       "      <th>0</th>\n",
       "      <td>0</td>\n",
       "      <td>-1</td>\n",
       "      <td>NaN</td>\n",
       "      <td>0.000000</td>\n",
       "      <td>1</td>\n",
       "      <td>0.000000</td>\n",
       "      <td>0.000000</td>\n",
       "      <td>1.000000</td>\n",
       "      <td>6.88</td>\n",
       "      <td>NaN</td>\n",
       "      <td>0.000000</td>\n",
       "      <td>1.0</td>\n",
       "      <td>0</td>\n",
       "      <td>1.0</td>\n",
       "      <td>0.0</td>\n",
       "    </tr>\n",
       "    <tr>\n",
       "      <th>1</th>\n",
       "      <td>0</td>\n",
       "      <td>530</td>\n",
       "      <td>0.922967</td>\n",
       "      <td>0.922967</td>\n",
       "      <td>2</td>\n",
       "      <td>6.628841</td>\n",
       "      <td>6.628841</td>\n",
       "      <td>0.577064</td>\n",
       "      <td>6.88</td>\n",
       "      <td>6.802691</td>\n",
       "      <td>171.063538</td>\n",
       "      <td>1.0</td>\n",
       "      <td>1</td>\n",
       "      <td>1.0</td>\n",
       "      <td>1.0</td>\n",
       "    </tr>\n",
       "    <tr>\n",
       "      <th>2</th>\n",
       "      <td>1</td>\n",
       "      <td>-1</td>\n",
       "      <td>NaN</td>\n",
       "      <td>0.000000</td>\n",
       "      <td>1</td>\n",
       "      <td>0.000000</td>\n",
       "      <td>0.000000</td>\n",
       "      <td>1.000000</td>\n",
       "      <td>6.02</td>\n",
       "      <td>NaN</td>\n",
       "      <td>0.000000</td>\n",
       "      <td>1.0</td>\n",
       "      <td>0</td>\n",
       "      <td>1.0</td>\n",
       "      <td>0.0</td>\n",
       "    </tr>\n",
       "    <tr>\n",
       "      <th>3</th>\n",
       "      <td>1</td>\n",
       "      <td>198</td>\n",
       "      <td>0.683928</td>\n",
       "      <td>0.683928</td>\n",
       "      <td>2</td>\n",
       "      <td>6.628845</td>\n",
       "      <td>6.628845</td>\n",
       "      <td>0.577066</td>\n",
       "      <td>6.02</td>\n",
       "      <td>5.972343</td>\n",
       "      <td>174.621536</td>\n",
       "      <td>1.0</td>\n",
       "      <td>1</td>\n",
       "      <td>1.0</td>\n",
       "      <td>1.0</td>\n",
       "    </tr>\n",
       "    <tr>\n",
       "      <th>4</th>\n",
       "      <td>2</td>\n",
       "      <td>-1</td>\n",
       "      <td>NaN</td>\n",
       "      <td>0.000000</td>\n",
       "      <td>1</td>\n",
       "      <td>0.000000</td>\n",
       "      <td>0.000000</td>\n",
       "      <td>1.000000</td>\n",
       "      <td>6.44</td>\n",
       "      <td>NaN</td>\n",
       "      <td>0.000000</td>\n",
       "      <td>1.0</td>\n",
       "      <td>0</td>\n",
       "      <td>1.0</td>\n",
       "      <td>0.0</td>\n",
       "    </tr>\n",
       "    <tr>\n",
       "      <th>...</th>\n",
       "      <td>...</td>\n",
       "      <td>...</td>\n",
       "      <td>...</td>\n",
       "      <td>...</td>\n",
       "      <td>...</td>\n",
       "      <td>...</td>\n",
       "      <td>...</td>\n",
       "      <td>...</td>\n",
       "      <td>...</td>\n",
       "      <td>...</td>\n",
       "      <td>...</td>\n",
       "      <td>...</td>\n",
       "      <td>...</td>\n",
       "      <td>...</td>\n",
       "      <td>...</td>\n",
       "    </tr>\n",
       "    <tr>\n",
       "      <th>76</th>\n",
       "      <td>36</td>\n",
       "      <td>-1</td>\n",
       "      <td>NaN</td>\n",
       "      <td>0.000000</td>\n",
       "      <td>1</td>\n",
       "      <td>0.000000</td>\n",
       "      <td>0.000000</td>\n",
       "      <td>1.000000</td>\n",
       "      <td>3.69</td>\n",
       "      <td>NaN</td>\n",
       "      <td>0.000000</td>\n",
       "      <td>1.0</td>\n",
       "      <td>0</td>\n",
       "      <td>1.0</td>\n",
       "      <td>0.0</td>\n",
       "    </tr>\n",
       "    <tr>\n",
       "      <th>77</th>\n",
       "      <td>36</td>\n",
       "      <td>5</td>\n",
       "      <td>0.521587</td>\n",
       "      <td>0.521587</td>\n",
       "      <td>2</td>\n",
       "      <td>6.628847</td>\n",
       "      <td>6.628847</td>\n",
       "      <td>0.577068</td>\n",
       "      <td>3.69</td>\n",
       "      <td>3.418618</td>\n",
       "      <td>117.458061</td>\n",
       "      <td>1.0</td>\n",
       "      <td>1</td>\n",
       "      <td>1.0</td>\n",
       "      <td>1.0</td>\n",
       "    </tr>\n",
       "    <tr>\n",
       "      <th>78</th>\n",
       "      <td>37</td>\n",
       "      <td>-1</td>\n",
       "      <td>NaN</td>\n",
       "      <td>0.000000</td>\n",
       "      <td>1</td>\n",
       "      <td>0.000000</td>\n",
       "      <td>0.000000</td>\n",
       "      <td>1.000000</td>\n",
       "      <td>2.22</td>\n",
       "      <td>NaN</td>\n",
       "      <td>0.000000</td>\n",
       "      <td>1.0</td>\n",
       "      <td>1</td>\n",
       "      <td>0.0</td>\n",
       "      <td>0.0</td>\n",
       "    </tr>\n",
       "    <tr>\n",
       "      <th>79</th>\n",
       "      <td>38</td>\n",
       "      <td>-1</td>\n",
       "      <td>NaN</td>\n",
       "      <td>0.000000</td>\n",
       "      <td>1</td>\n",
       "      <td>0.000000</td>\n",
       "      <td>0.000000</td>\n",
       "      <td>1.000000</td>\n",
       "      <td>5.94</td>\n",
       "      <td>NaN</td>\n",
       "      <td>0.000000</td>\n",
       "      <td>1.0</td>\n",
       "      <td>0</td>\n",
       "      <td>1.0</td>\n",
       "      <td>0.0</td>\n",
       "    </tr>\n",
       "    <tr>\n",
       "      <th>80</th>\n",
       "      <td>38</td>\n",
       "      <td>167</td>\n",
       "      <td>1.700956</td>\n",
       "      <td>1.700956</td>\n",
       "      <td>2</td>\n",
       "      <td>6.628819</td>\n",
       "      <td>6.628819</td>\n",
       "      <td>0.577052</td>\n",
       "      <td>5.94</td>\n",
       "      <td>5.827728</td>\n",
       "      <td>164.878891</td>\n",
       "      <td>1.0</td>\n",
       "      <td>1</td>\n",
       "      <td>1.0</td>\n",
       "      <td>1.0</td>\n",
       "    </tr>\n",
       "  </tbody>\n",
       "</table>\n",
       "<p>81 rows × 15 columns</p>\n",
       "</div>"
      ],
      "text/plain": [
       "    STD  GAIA  Separation_STD_GAIA  Separation_max  ncat  \\\n",
       "0     0    -1                  NaN        0.000000     1   \n",
       "1     0   530             0.922967        0.922967     2   \n",
       "2     1    -1                  NaN        0.000000     1   \n",
       "3     1   198             0.683928        0.683928     2   \n",
       "4     2    -1                  NaN        0.000000     1   \n",
       "..  ...   ...                  ...             ...   ...   \n",
       "76   36    -1                  NaN        0.000000     1   \n",
       "77   36     5             0.521587        0.521587     2   \n",
       "78   37    -1                  NaN        0.000000     1   \n",
       "79   38    -1                  NaN        0.000000     1   \n",
       "80   38   167             1.700956        1.700956     2   \n",
       "\n",
       "    dist_bayesfactor_uncorrected  dist_bayesfactor  dist_post  HPmag  \\\n",
       "0                       0.000000          0.000000   1.000000   6.88   \n",
       "1                       6.628841          6.628841   0.577064   6.88   \n",
       "2                       0.000000          0.000000   1.000000   6.02   \n",
       "3                       6.628845          6.628845   0.577066   6.02   \n",
       "4                       0.000000          0.000000   1.000000   6.44   \n",
       "..                           ...               ...        ...    ...   \n",
       "76                      0.000000          0.000000   1.000000   3.69   \n",
       "77                      6.628847          6.628847   0.577068   3.69   \n",
       "78                      0.000000          0.000000   1.000000   2.22   \n",
       "79                      0.000000          0.000000   1.000000   5.94   \n",
       "80                      6.628819          6.628819   0.577052   5.94   \n",
       "\n",
       "    phot_g_mean_mag  bias_magdiff  p_single  match_flag  prob_has_match  \\\n",
       "0               NaN      0.000000       1.0           0             1.0   \n",
       "1          6.802691    171.063538       1.0           1             1.0   \n",
       "2               NaN      0.000000       1.0           0             1.0   \n",
       "3          5.972343    174.621536       1.0           1             1.0   \n",
       "4               NaN      0.000000       1.0           0             1.0   \n",
       "..              ...           ...       ...         ...             ...   \n",
       "76              NaN      0.000000       1.0           0             1.0   \n",
       "77         3.418618    117.458061       1.0           1             1.0   \n",
       "78              NaN      0.000000       1.0           1             0.0   \n",
       "79              NaN      0.000000       1.0           0             1.0   \n",
       "80         5.827728    164.878891       1.0           1             1.0   \n",
       "\n",
       "    prob_this_match  \n",
       "0               0.0  \n",
       "1               1.0  \n",
       "2               0.0  \n",
       "3               1.0  \n",
       "4               0.0  \n",
       "..              ...  \n",
       "76              0.0  \n",
       "77              1.0  \n",
       "78              0.0  \n",
       "79              0.0  \n",
       "80              1.0  \n",
       "\n",
       "[81 rows x 15 columns]"
      ]
     },
     "execution_count": 59,
     "metadata": {},
     "output_type": "execute_result"
    }
   ],
   "source": [
    "result"
   ]
  },
  {
   "cell_type": "markdown",
   "metadata": {},
   "source": [
    "Lets look at the new magnitude correlation, color-coded by $p_i$:"
   ]
  },
  {
   "cell_type": "code",
   "execution_count": 60,
   "metadata": {},
   "outputs": [
    {
     "data": {
      "image/png": "[encoded data removed]",
      "text/plain": [
       "<Figure size 432x288 with 1 Axes>"
      ]
     },
     "metadata": {
      "needs_background": "light"
     },
     "output_type": "display_data"
    }
   ],
   "source": [
    "plt.scatter(result.phot_g_mean_mag, result.HPmag, c=result.prob_this_match);\n",
    "plt.ylabel('First catalog magnitude')\n",
    "plt.xlabel('Gaia magnitude')\n",
    "plt.plot([2, 7], [2, 7]);"
   ]
  },
  {
   "cell_type": "markdown",
   "metadata": {},
   "source": [
    "Now, the $p_i$ is very high close to the line, as we wanted."
   ]
  },
  {
   "cell_type": "markdown",
   "metadata": {},
   "source": [
    "Finally, lets look how the $p_i$ - $p_{any}$ distribution changed:"
   ]
  },
  {
   "cell_type": "code",
   "execution_count": 62,
   "metadata": {},
   "outputs": [
    {
     "data": {
      "image/png": "[encoded data removed]",
      "text/plain": [
       "<Figure size 432x288 with 1 Axes>"
      ]
     },
     "metadata": {
      "needs_background": "light"
     },
     "output_type": "display_data"
    }
   ],
   "source": [
    "plt.scatter(result_pos.prob_has_match, result_pos.prob_this_match, label='Before');\n",
    "plt.scatter(result.prob_has_match, result.prob_this_match, label='After')\n",
    "plt.legend(loc='best')\n",
    "plt.ylabel('p_i')\n",
    "plt.xlabel('p_any');"
   ]
  },
  {
   "cell_type": "markdown",
   "metadata": {},
   "source": [
    "There are fewer ambiguous cases with intermediate $p_{any}$ and $p_i$."
   ]
  }
 ],
 "metadata": {
  "kernelspec": {
   "display_name": "Python 3",
   "language": "python",
   "name": "python3"
  },
  "language_info": {
   "codemirror_mode": {
    "name": "ipython",
    "version": 3
   },
   "file_extension": ".py",
   "mimetype": "text/x-python",
   "name": "python",
   "nbconvert_exporter": "python",
   "pygments_lexer": "ipython3",
   "version": "3.8.10"
  }
 },
 "nbformat": 4,
 "nbformat_minor": 4
}
